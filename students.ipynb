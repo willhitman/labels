{
 "cells": [
  {
   "cell_type": "code",
   "execution_count": null,
   "id": "6b6a700f-1af6-4695-b0b4-ceb7149021c8",
   "metadata": {},
   "outputs": [],
   "source": [
    "!pip install --upgrade setuptools"
   ]
  },
  {
   "cell_type": "code",
   "execution_count": null,
   "id": "f63d5ab8-1f56-4c06-8e70-5825458f0712",
   "metadata": {},
   "outputs": [],
   "source": [
    "!pip install labelme"
   ]
  },
  {
   "cell_type": "code",
   "execution_count": 11,
   "id": "6c4f6f3d-7866-4f23-9149-6aa9116dd4c3",
   "metadata": {},
   "outputs": [],
   "source": [
    "## 1. Instructions"
   ]
  },
  {
   "cell_type": "code",
   "execution_count": null,
   "id": "c8c4660d-404f-4880-aece-2d6cf4152b19",
   "metadata": {},
   "outputs": [],
   "source": [
    "### Resize images\n",
    "* 'https://www.birme.net/?target_width=800&target_height=800&quality_jpeg=100'\n",
    "* select all you images and upload *\n",
    "* align each image to the center ( cow face)\n",
    "* Click on save as zip and download the zipped folder and extract to a dedicated location you will rememmber\n",
    "* In this folder create a folder called labels\n"
   ]
  },
  {
   "cell_type": "code",
   "execution_count": null,
   "id": "f1e87bd4-6296-4a15-92df-e911e31a9b8d",
   "metadata": {},
   "outputs": [],
   "source": [
    "### Label images\n",
    "* Open label me by running the cell below\n",
    "* When it opens click on Open DIR and navigate to the folder you extracted the images\n",
    "* Click on File and Select Change Output Dir and select the labels folder\n",
    "* CLick on File and select Save Automatically \n",
    "* Click on Edit and select Create Rectangle\n",
    "* Draw a rectangle coving the face of the animal without including unnecessary blank space, you click at the top left of where you intend you rectangle to begin then move to where you want it to end and click again\n",
    "* On the pop up that shows name in 'face'\n",
    "* Draw another rectangle but for the nose in thsi case and name it 'nose'\n",
    "* Click the letter D on your keyboard for the next image\n",
    "* Click letter A for previous image\n",
    "* When you are done just close LabelMe"
   ]
  },
  {
   "cell_type": "code",
   "execution_count": null,
   "id": "f71c6374-fccc-49fb-9cac-23f4d9a55105",
   "metadata": {},
   "outputs": [],
   "source": [
    "!labelme"
   ]
  },
  {
   "cell_type": "code",
   "execution_count": null,
   "id": "cebd635e-dba0-4b6a-8b2f-37c5a0353198",
   "metadata": {},
   "outputs": [],
   "source": []
  }
 ],
 "metadata": {
  "kernelspec": {
   "display_name": "Python 3 (ipykernel)",
   "language": "python",
   "name": "python3"
  },
  "language_info": {
   "codemirror_mode": {
    "name": "ipython",
    "version": 3
   },
   "file_extension": ".py",
   "mimetype": "text/x-python",
   "name": "python",
   "nbconvert_exporter": "python",
   "pygments_lexer": "ipython3",
   "version": "3.11.9"
  }
 },
 "nbformat": 4,
 "nbformat_minor": 5
}
